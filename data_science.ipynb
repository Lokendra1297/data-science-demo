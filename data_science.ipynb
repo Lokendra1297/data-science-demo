{
  "nbformat": 4,
  "nbformat_minor": 0,
  "metadata": {
    "colab": {
      "provenance": [],
      "toc_visible": true,
      "authorship_tag": "ABX9TyO2Uz63MJ/DjNLjQJSAZjDf",
      "include_colab_link": true
    },
    "kernelspec": {
      "name": "python3",
      "display_name": "Python 3"
    },
    "language_info": {
      "name": "python"
    }
  },
  "cells": [
    {
      "cell_type": "markdown",
      "metadata": {
        "id": "view-in-github",
        "colab_type": "text"
      },
      "source": [
        "<a href=\"https://colab.research.google.com/github/Lokendra1297/data-science-demo/blob/main/data_science.ipynb\" target=\"_parent\"><img src=\"https://colab.research.google.com/assets/colab-badge.svg\" alt=\"Open In Colab\"/></a>"
      ]
    },
    {
      "cell_type": "markdown",
      "source": [
        "##Ingest"
      ],
      "metadata": {
        "id": "M-AH9Jxrjhou"
      }
    },
    {
      "cell_type": "code",
      "execution_count": null,
      "metadata": {
        "id": "4u0ohfCMjdc9"
      },
      "outputs": [],
      "source": [
        "\n"
      ]
    },
    {
      "cell_type": "markdown",
      "source": [
        "##EDA"
      ],
      "metadata": {
        "id": "NzzKqKGujsNa"
      }
    },
    {
      "cell_type": "code",
      "source": [],
      "metadata": {
        "id": "N4Zixo0Vjxak"
      },
      "execution_count": null,
      "outputs": []
    },
    {
      "cell_type": "markdown",
      "source": [
        "##Modeling"
      ],
      "metadata": {
        "id": "c5qsnL35jxvm"
      }
    },
    {
      "cell_type": "code",
      "source": [],
      "metadata": {
        "id": "JnjvnVpLj0y9"
      },
      "execution_count": null,
      "outputs": []
    },
    {
      "cell_type": "markdown",
      "source": [
        "##Conclusion"
      ],
      "metadata": {
        "id": "QdCHSC3oj1Hn"
      }
    },
    {
      "cell_type": "code",
      "source": [],
      "metadata": {
        "id": "JKmlPBIMj4on"
      },
      "execution_count": null,
      "outputs": []
    }
  ]
}